{
 "cells": [
  {
   "cell_type": "code",
   "execution_count": 1,
   "metadata": {},
   "outputs": [
    {
     "name": "stdout",
     "output_type": "stream",
     "text": [
      "\n",
      "Forward kinematics results:\n",
      "x coordinate: 187.99558205457538\n",
      "y coordinate: 0.0\n",
      "z coordinate: -61.13645230138889\n"
     ]
    }
   ],
   "source": [
    "import math\n",
    "\n",
    "# Forward kinematics\n",
    "\n",
    "# Link lengths\n",
    "a1 = 37\n",
    "a2 = 63.54\n",
    "a3 = 150\n",
    "\n",
    "# Calculate forward kinematics based on theta1, theta2, theta3\n",
    "theta1 = 0\n",
    "theta2 = 45\n",
    "theta3 = -90\n",
    "\n",
    "# Calculate r1, r2, r3 based on theta1, theta2, theta3\n",
    "r1_fk = a1 + a2 * math.cos(math.radians(theta2)) + \\\n",
    "    a3 * math.cos(math.radians(theta2 + theta3))\n",
    "r2_fk = a2 * math.sin(math.radians(theta2)) + a3 * \\\n",
    "    math.sin(math.radians(theta2 + theta3))\n",
    "r3_fk = r1_fk * math.cos(math.radians(theta1))\n",
    "\n",
    "# Calculate x, y, z coordinates\n",
    "x = r3_fk * math.cos(math.radians(theta1))\n",
    "y = r3_fk * math.sin(math.radians(theta1))\n",
    "z = r2_fk\n",
    "\n",
    "print(\"\\nForward kinematics results:\")\n",
    "\n",
    "print(\"x coordinate:\", x)\n",
    "print(\"y coordinate:\", y)\n",
    "print(\"z coordinate:\", z)"
   ]
  }
 ],
 "metadata": {
  "kernelspec": {
   "display_name": "base",
   "language": "python",
   "name": "python3"
  },
  "language_info": {
   "codemirror_mode": {
    "name": "ipython",
    "version": 3
   },
   "file_extension": ".py",
   "mimetype": "text/x-python",
   "name": "python",
   "nbconvert_exporter": "python",
   "pygments_lexer": "ipython3",
   "version": "3.8.12"
  }
 },
 "nbformat": 4,
 "nbformat_minor": 2
}
