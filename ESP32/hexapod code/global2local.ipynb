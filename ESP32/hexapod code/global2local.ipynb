{
 "cells": [
  {
   "cell_type": "code",
   "execution_count": 3,
   "metadata": {},
   "outputs": [
    {
     "name": "stdout",
     "output_type": "stream",
     "text": [
      "[[0.8141809705265618, -0.5806111842123143, 0], [0.5806111842123143, 0.8141809705265618, 0], [0, 0, 1]]\n",
      "[[-0.5984600690578581, 0.8011526357338306, 0], [-0.8011526357338306, -0.5984600690578581, 0], [0, 0, 1]]\n",
      "[[0.3257813055351481, -0.9454451549211168, 0], [0.9454451549211168, 0.3257813055351481, 0], [0, 0, 1]]\n",
      "[[-0.022096619278683942, 0.9997558399011495, 0], [-0.9997558399011495, -0.022096619278683942, 0], [0, 0, 1]]\n",
      "[[1.0, -0.0, 0], [0.0, 1.0, 0], [0, 0, 1]]\n",
      "[[-0.9524129804151563, 0.3048106211022167, 0], [-0.3048106211022167, -0.9524129804151563, 0], [0, 0, 1]]\n"
     ]
    }
   ],
   "source": [
    "import math\n",
    "legAngleOffsets = [120, 180, 240, 300, 0, 60]\n",
    "matrix = [[]]\n",
    "\n",
    "globalCoord = (10, 20, 0)\n",
    "\n",
    "for angle in legAngleOffsets:\n",
    "    matrix = [[math.cos(angle), -math.sin(angle), 0],\n",
    "              [math.sin(angle), math.cos(angle), 0],\n",
    "              [0, 0, 1]]\n",
    "    print(matrix)"
   ]
  }
 ],
 "metadata": {
  "kernelspec": {
   "display_name": "base",
   "language": "python",
   "name": "python3"
  },
  "language_info": {
   "codemirror_mode": {
    "name": "ipython",
    "version": 3
   },
   "file_extension": ".py",
   "mimetype": "text/x-python",
   "name": "python",
   "nbconvert_exporter": "python",
   "pygments_lexer": "ipython3",
   "version": "3.8.12"
  }
 },
 "nbformat": 4,
 "nbformat_minor": 2
}
