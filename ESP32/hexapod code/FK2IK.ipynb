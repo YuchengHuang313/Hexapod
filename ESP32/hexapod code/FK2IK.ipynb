{
 "cells": [
  {
   "cell_type": "code",
   "execution_count": 1,
   "metadata": {},
   "outputs": [],
   "source": [
    "import math\n",
    "\n",
    "a1 = 37\n",
    "a2 = 63.54\n",
    "a3 = 150\n",
    "\n",
    "theta1 = 0\n",
    "theta2 = 45\n",
    "theta3 = -90"
   ]
  },
  {
   "cell_type": "code",
   "execution_count": 2,
   "metadata": {},
   "outputs": [
    {
     "name": "stdout",
     "output_type": "stream",
     "text": [
      "\n",
      "Forward kinematics results:\n",
      "x coordinate: 187.99558205457538\n",
      "y coordinate: 0.0\n",
      "z coordinate: -61.13645230138889\n"
     ]
    }
   ],
   "source": [
    "# Forward\n",
    "# Calculate r1, r2, r3 based on theta1, theta2, theta3\n",
    "r1_fk = a1 + a2 * math.cos(math.radians(theta2)) + \\\n",
    "    a3 * math.cos(math.radians(theta2 + theta3))\n",
    "r2_fk = a2 * math.sin(math.radians(theta2)) + a3 * \\\n",
    "    math.sin(math.radians(theta2 + theta3))\n",
    "r3_fk = r1_fk * math.cos(math.radians(theta1))\n",
    "\n",
    "# Calculate x, y, z coordinates\n",
    "x = r3_fk * math.cos(math.radians(theta1))\n",
    "y = r3_fk * math.sin(math.radians(theta1))\n",
    "z = r2_fk\n",
    "\n",
    "print(\"\\nForward kinematics results:\")\n",
    "\n",
    "print(\"x coordinate:\", x)\n",
    "print(\"y coordinate:\", y)\n",
    "print(\"z coordinate:\", z)"
   ]
  },
  {
   "cell_type": "code",
   "execution_count": 3,
   "metadata": {},
   "outputs": [
    {
     "name": "stdout",
     "output_type": "stream",
     "text": [
      "valid\n",
      "theta1 value: 0.0\n",
      "r1 value: 150.99558205457538\n",
      "r2 value: -61.13645230138889\n",
      "phi2 value: -0.38471392591532716\n",
      "r3 value: 162.90282870472203\n",
      "phi1 value: 1.1701120893127752\n",
      "theta2 value: 44.999999999999986\n",
      "phi3 value: 1.5707963267948968\n",
      "theta3 value: -89.99999999999999\n"
     ]
    }
   ],
   "source": [
    "# Inverse\n",
    "\n",
    "# Check valid end point\n",
    "target_length = math.sqrt(x**2 + y**2 + z**2)\n",
    "max_leg_length = a1+a2+a3\n",
    "if (max_leg_length >= target_length):\n",
    "    print(\"valid\")\n",
    "else:\n",
    "    print(\"invalid\")\n",
    "\n",
    "# Top view info\n",
    "\n",
    "theta1 = math.atan2(y, x)\n",
    "print(\"theta1 value: \" + str(math.degrees(theta1)))\n",
    "\n",
    "r1 = math.sqrt(x**2 + y**2) - a1\n",
    "\n",
    "print(\"r1 value: \" + str(r1))\n",
    "# Side view info: elbow up\n",
    "\n",
    "r2 = z\n",
    "print(\"r2 value: \" + str(r2))\n",
    "\n",
    "phi2 = math.atan2(r2, r1)\n",
    "print(\"phi2 value: \" + str(phi2))\n",
    "\n",
    "r3 = math.sqrt(r1**2 + r2**2)\n",
    "print(\"r3 value: \" + str(r3))\n",
    "\n",
    "try:\n",
    "    phi1 = math.acos(((a3**2 - a2**2 - r3**2) / (-2*a2*r3)))\n",
    "    print(\"phi1 value: \" + str(phi1))\n",
    "except ValueError:\n",
    "    print(\"phi1 cannot be calculated, end position is impossible configure\")\n",
    "\n",
    "theta2 = phi1 + phi2\n",
    "print(\"theta2 value: \" + str(math.degrees(theta2)))\n",
    "\n",
    "try:\n",
    "    phi3 = math.acos((r3**2 - a2**2 - a3**2) / (-2*a2*a3))\n",
    "    print(\"phi3 value: \" + str(phi3))\n",
    "except ValueError:\n",
    "    print(\"phi3 cannot be calculated, end position is impossible configure\")\n",
    "\n",
    "theta3 = -(math.pi - phi3)\n",
    "print(\"theta3 value: \" + str(math.degrees(theta3)))"
   ]
  }
 ],
 "metadata": {
  "kernelspec": {
   "display_name": "base",
   "language": "python",
   "name": "python3"
  },
  "language_info": {
   "codemirror_mode": {
    "name": "ipython",
    "version": 3
   },
   "file_extension": ".py",
   "mimetype": "text/x-python",
   "name": "python",
   "nbconvert_exporter": "python",
   "pygments_lexer": "ipython3",
   "version": "3.8.12"
  }
 },
 "nbformat": 4,
 "nbformat_minor": 2
}
